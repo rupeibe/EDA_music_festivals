{
 "cells": [
  {
   "cell_type": "code",
   "execution_count": 7,
   "metadata": {},
   "outputs": [],
   "source": [
    "import pandas as pd\n",
    "import requests\n",
    "\n",
    "import warnings\n",
    "warnings.filterwarnings(\"ignore\")"
   ]
  },
  {
   "attachments": {},
   "cell_type": "markdown",
   "metadata": {},
   "source": [
    "Importo csv con los enlaces de los festivales para descargar las fotos de los carteles"
   ]
  },
  {
   "cell_type": "code",
   "execution_count": 8,
   "metadata": {},
   "outputs": [],
   "source": [
    "df_enlaces_gratuito = pd.read_csv(r\"..\\data\\datos_demograficos\\df_festivales_enlaces_gratuito.csv\", encoding= \"utf16\", index_col= \"Unnamed: 0\")"
   ]
  },
  {
   "cell_type": "code",
   "execution_count": 9,
   "metadata": {},
   "outputs": [],
   "source": [
    "lista_nombres = []\n",
    "\n",
    "for nombre in df_enlaces_gratuito[\"nombre\"]:\n",
    "    lista_nombres.append(nombre)"
   ]
  },
  {
   "cell_type": "code",
   "execution_count": 10,
   "metadata": {},
   "outputs": [],
   "source": [
    "lista_carteles = []\n",
    "\n",
    "for foto in df_enlaces_gratuito[\"enlace_foto\"]:\n",
    "    lista_carteles.append(foto)"
   ]
  },
  {
   "cell_type": "code",
   "execution_count": 11,
   "metadata": {},
   "outputs": [],
   "source": [
    "dict_carteles = {col:dat for col, dat in zip(lista_nombres, lista_carteles)}"
   ]
  },
  {
   "cell_type": "code",
   "execution_count": null,
   "metadata": {},
   "outputs": [],
   "source": [
    "# for nombre, url in dict_carteles.items():\n",
    "\n",
    "#     patron = re.compile(r'^.*(?=202)')\n",
    "#     resultado = patron.search(nombre).group(0)\n",
    "#     resultado = nombre.replace(\"*\",\"\").replace(\"/\",\"\").replace(\"!\",\"\")\n",
    "\n",
    "#     filename = f'{resultado}.jpg'\n",
    "#     response = requests.get(url)\n",
    "#     open(filename, 'wb').write(response.content)"
   ]
  }
 ],
 "metadata": {
  "kernelspec": {
   "display_name": "core",
   "language": "python",
   "name": "python3"
  },
  "language_info": {
   "codemirror_mode": {
    "name": "ipython",
    "version": 3
   },
   "file_extension": ".py",
   "mimetype": "text/x-python",
   "name": "python",
   "nbconvert_exporter": "python",
   "pygments_lexer": "ipython3",
   "version": "3.9.16"
  },
  "orig_nbformat": 4
 },
 "nbformat": 4,
 "nbformat_minor": 2
}
