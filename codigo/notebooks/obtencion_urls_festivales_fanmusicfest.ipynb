{
 "cells": [
  {
   "attachments": {},
   "cell_type": "markdown",
   "metadata": {},
   "source": [
    "### Pretendo obtener la información de los festivales de música que se realizarán en 2023 en España, en un primer scrapeado a la web me traeré el nombre del festival el estilo de música agrupado y la URL del cada festival para con un segundo scrapeo obtener toda la información de cada uno de los festivales. En la web https://fanmusicfest.com/ existen diferentes filtros para acceder a la información de cada festival. Voy a utilizar el método de Beautiful Soup obteniendo las diferentes URLs de los diferentes estilos de música, haciendo diferentes llamadas a la web para traerme los datos.\n",
    "\n",
    "Este paso previo consitirá en obtener el nombre del festival la url de "
   ]
  },
  {
   "attachments": {},
   "cell_type": "markdown",
   "metadata": {},
   "source": [
    "## Importo la librerías necesarias para el Scrapping y almacenamiento/ tratamiento de los datos"
   ]
  },
  {
   "cell_type": "code",
   "execution_count": 1,
   "metadata": {},
   "outputs": [],
   "source": [
    "from bs4 import BeautifulSoup as bs\n",
    "import requests\n",
    "import pandas as pd"
   ]
  },
  {
   "attachments": {},
   "cell_type": "markdown",
   "metadata": {},
   "source": [
    "## Inicializo el diccionario donde iré almacenando los nombres de los festivales para después accedera la la información de cada uno"
   ]
  },
  {
   "cell_type": "code",
   "execution_count": 38,
   "metadata": {},
   "outputs": [],
   "source": [
    "# Inicializo el diccionario\n",
    "\n",
    "dicc_festivales = {\"nombre\":[], \"url\": []}"
   ]
  },
  {
   "attachments": {},
   "cell_type": "markdown",
   "metadata": {},
   "source": [
    "\n",
    "- ELECTRONICA. codigo: 20583 num: 4\n",
    "\n",
    "- HIP HOP, URBAN, REAGGETON. codigo: 34136 num: 7\n",
    "\n",
    "- INDIE, POP, ALTERNATIVO codigo: 20584 num: 14\n",
    "\n",
    "- ROCK, METAL, BLUES, PUNK codigo: 20586 num: 12\n",
    "\n",
    "- MULTIGÉNERO, FUSIÓN, WORLD MUSIC codigo: 20585 num: 9"
   ]
  },
  {
   "attachments": {},
   "cell_type": "markdown",
   "metadata": {},
   "source": [
    "## Creo una función que genere las URLs para el acceso a la web"
   ]
  },
  {
   "cell_type": "code",
   "execution_count": 3,
   "metadata": {},
   "outputs": [],
   "source": [
    "def generate_urls(codigo, num):\n",
    "\n",
    "    '''\n",
    "    Función que genera una lista con las URLs de donde tiene que extraer la información de los festivales de música\n",
    "\n",
    "    input: Recibe un código (int) (referente al estilo de música) y un número (int) (nº de páginas que hay por cada estilo de música)\n",
    "    output: Retorna una lista (lst) con las URLs de donde hay que extraer la información de cada festival de música\n",
    "    ''' \n",
    "\n",
    "    lista_URL = []\n",
    "    for i in range(1,num):\n",
    "        lista_URL.append(f\"https://fanmusicfest.com/calendario-festivales?date_filter[value][date]=01/01/2023&field_taxtipofest_tid={codigo}&field_taxcaracfest_tid=All&country=es&province=All&sort_by=views_sort_expression&page={i}\")\n",
    "    \n",
    "    lista_URL.append(f\"https://fanmusicfest.com/calendario-festivales?date_filter[value][date]=01/01/2023&field_taxtipofest_tid={codigo}&field_taxcaracfest_tid=All&country=es&province=All&sort_by=views_sort_expression\")\n",
    "    return lista_URL"
   ]
  },
  {
   "cell_type": "code",
   "execution_count": 9,
   "metadata": {},
   "outputs": [],
   "source": [
    "response = requests.get(\"https://fanmusicfest.com/calendario-festivales\")\n",
    "html = response.content\n",
    "soup = bs(html, \"lxml\")"
   ]
  },
  {
   "attachments": {},
   "cell_type": "markdown",
   "metadata": {},
   "source": [
    "## Creo una función que acceda a la web y obtengas la información de los festivales de música"
   ]
  },
  {
   "cell_type": "code",
   "execution_count": 28,
   "metadata": {},
   "outputs": [],
   "source": [
    "def capture_info(lista_URL):\n",
    "\n",
    "        ''' \n",
    "        Función que conecta con la página web para extraer los datos de cada uno de los festivales y la almacena en un diccionario\n",
    "\n",
    "        input: Recibe una lista (lst) de las URLs para cada estilo de música\n",
    "        output: Retorna una diccionario (dict) con la información recogida de cada uno de los festivales\n",
    "        \n",
    "        '''\n",
    "\n",
    "        for url in lista_URL:\n",
    "                # CONECTAMOS CON LA WEB\n",
    "                response = requests.get(url)\n",
    "                html = response.content\n",
    "                soup = bs(html, \"lxml\")\n",
    "\n",
    "                # Extraigo los nombres de los festivales\n",
    "                name = soup.find_all(\"div\", {\"class\": \"card__title font-weight-bold text-white texto--elipsis order-2 order-md-1\"})\n",
    "                url = soup.find_all(\"div\", {\"class\": \"card__title font-weight-bold text-white texto--elipsis order-2 order-md-1\"})\n",
    "\n",
    "                for name_fest in name:\n",
    "                        dicc_festivales[\"nombre\"].append(name_fest.find(\"a\").get_text())\n",
    "                        dicc_festivales[\"url\"].append(\"https://fanmusicfest.com/\" + name_fest.find(\"a\")[\"href\"])\n",
    "\n",
    "        return dicc_festivales"
   ]
  },
  {
   "attachments": {},
   "cell_type": "markdown",
   "metadata": {},
   "source": [
    "## Creo una función que cree los dataframe y los guarde en archivo csv. Añadirá una columna para clasificar el estilo de música agrupado"
   ]
  },
  {
   "cell_type": "code",
   "execution_count": 30,
   "metadata": {},
   "outputs": [],
   "source": [
    "def create_df_save_csv(dicc_fest, codigo):\n",
    "\n",
    "    '''\n",
    "    Función que generará un dataframe que englobe los festivales de cada estilo de música y exportará un csv en el directorio raíz con dicha información.\n",
    "    También crea una columna \"estilo\" en el dataframe para después poder utilizarla para hacer análisis.\n",
    "\n",
    "    input: Recibe un diccionario (dict) con la información de los festivales para cada estilo de música.\n",
    "    output: Retorna para cada llamada a la función el dataframe resultante (df), con la información de los festivales de música por estilo y exporta a un csv\n",
    "    '''\n",
    "\n",
    "    if codigo == 20583:\n",
    "        df_festivales_2023_electronica = pd.DataFrame(dicc_fest)\n",
    "        df_festivales_2023_electronica[\"estilo\"] = \"electronica\"\n",
    "        df_festivales_2023_electronica.to_csv(\"electronica_lista.csv\")\n",
    "        return df_festivales_2023_electronica\n",
    "    elif codigo == 34136:\n",
    "        df_festivales_2023_musica_urbana = pd.DataFrame(dicc_fest)\n",
    "        df_festivales_2023_musica_urbana[\"estilo\"] = \"musica urbana\"\n",
    "        df_festivales_2023_musica_urbana.to_csv(\"musica_urbana_lista.csv\")\n",
    "        return df_festivales_2023_musica_urbana\n",
    "    elif codigo == 20584:\n",
    "        df_festivales_2023_indie_pop = pd.DataFrame(dicc_fest)\n",
    "        df_festivales_2023_indie_pop[\"estilo\"] = \"indie, pop\"\n",
    "        df_festivales_2023_indie_pop.to_csv(\"indie_pop_lista.csv\")\n",
    "        return df_festivales_2023_indie_pop\n",
    "    elif codigo == 20586:\n",
    "        df_festivales_2023_rock_metal = pd.DataFrame(dicc_fest)\n",
    "        df_festivales_2023_rock_metal[\"estilo\"] = \"rock, metal\"\n",
    "        df_festivales_2023_rock_metal.to_csv(\"rock_metal_lista.csv\")\n",
    "        return df_festivales_2023_rock_metal\n",
    "    elif codigo == 20585:\n",
    "        df_festivales_2023_fusion_worldmusic = pd.DataFrame(dicc_fest)\n",
    "        df_festivales_2023_fusion_worldmusic[\"estilo\"] = \"fusion, world music\"\n",
    "        df_festivales_2023_fusion_worldmusic.to_csv(\"fusion_worldmusic_lista.csv\")\n",
    "        return df_festivales_2023_fusion_worldmusic"
   ]
  },
  {
   "attachments": {},
   "cell_type": "markdown",
   "metadata": {},
   "source": [
    "## Llamo a las funciones para almacenar los datos de la web en dataframe y exporto a csv"
   ]
  },
  {
   "cell_type": "code",
   "execution_count": 39,
   "metadata": {},
   "outputs": [
    {
     "data": {
      "text/html": [
       "<div>\n",
       "<style scoped>\n",
       "    .dataframe tbody tr th:only-of-type {\n",
       "        vertical-align: middle;\n",
       "    }\n",
       "\n",
       "    .dataframe tbody tr th {\n",
       "        vertical-align: top;\n",
       "    }\n",
       "\n",
       "    .dataframe thead th {\n",
       "        text-align: right;\n",
       "    }\n",
       "</style>\n",
       "<table border=\"1\" class=\"dataframe\">\n",
       "  <thead>\n",
       "    <tr style=\"text-align: right;\">\n",
       "      <th></th>\n",
       "      <th>nombre</th>\n",
       "      <th>url</th>\n",
       "      <th>estilo</th>\n",
       "    </tr>\n",
       "  </thead>\n",
       "  <tbody>\n",
       "    <tr>\n",
       "      <th>0</th>\n",
       "      <td>Iruña Rock</td>\n",
       "      <td>https://fanmusicfest.com//content/iruna-rock-2023</td>\n",
       "      <td>fusion, world music</td>\n",
       "    </tr>\n",
       "    <tr>\n",
       "      <th>1</th>\n",
       "      <td>Iberojoven</td>\n",
       "      <td>https://fanmusicfest.com//content/iberojoven-2023</td>\n",
       "      <td>fusion, world music</td>\n",
       "    </tr>\n",
       "    <tr>\n",
       "      <th>2</th>\n",
       "      <td>Zeid Fest</td>\n",
       "      <td>https://fanmusicfest.com//content/zeid-fest-2023</td>\n",
       "      <td>fusion, world music</td>\n",
       "    </tr>\n",
       "    <tr>\n",
       "      <th>3</th>\n",
       "      <td>Sound Isidro</td>\n",
       "      <td>https://fanmusicfest.com//content/sound-isidro...</td>\n",
       "      <td>fusion, world music</td>\n",
       "    </tr>\n",
       "    <tr>\n",
       "      <th>4</th>\n",
       "      <td>Iboga Rave Valencia</td>\n",
       "      <td>https://fanmusicfest.com//content/iboga-rave-v...</td>\n",
       "      <td>fusion, world music</td>\n",
       "    </tr>\n",
       "    <tr>\n",
       "      <th>...</th>\n",
       "      <td>...</td>\n",
       "      <td>...</td>\n",
       "      <td>...</td>\n",
       "    </tr>\n",
       "    <tr>\n",
       "      <th>103</th>\n",
       "      <td>Live Las Ventas</td>\n",
       "      <td>https://fanmusicfest.com//content/live-las-ven...</td>\n",
       "      <td>fusion, world music</td>\n",
       "    </tr>\n",
       "    <tr>\n",
       "      <th>104</th>\n",
       "      <td>Iboga Rave Madrid</td>\n",
       "      <td>https://fanmusicfest.com//content/iboga-rave-m...</td>\n",
       "      <td>fusion, world music</td>\n",
       "    </tr>\n",
       "    <tr>\n",
       "      <th>105</th>\n",
       "      <td>Senior Festival</td>\n",
       "      <td>https://fanmusicfest.com//content/senior-festi...</td>\n",
       "      <td>fusion, world music</td>\n",
       "    </tr>\n",
       "    <tr>\n",
       "      <th>106</th>\n",
       "      <td>Alabordaje Fest</td>\n",
       "      <td>https://fanmusicfest.com//content/alabordaje-f...</td>\n",
       "      <td>fusion, world music</td>\n",
       "    </tr>\n",
       "    <tr>\n",
       "      <th>107</th>\n",
       "      <td>Primavera Trompetera</td>\n",
       "      <td>https://fanmusicfest.com//content/primavera-tr...</td>\n",
       "      <td>fusion, world music</td>\n",
       "    </tr>\n",
       "  </tbody>\n",
       "</table>\n",
       "<p>108 rows × 3 columns</p>\n",
       "</div>"
      ],
      "text/plain": [
       "                   nombre                                                url  \\\n",
       "0              Iruña Rock  https://fanmusicfest.com//content/iruna-rock-2023   \n",
       "1              Iberojoven  https://fanmusicfest.com//content/iberojoven-2023   \n",
       "2               Zeid Fest   https://fanmusicfest.com//content/zeid-fest-2023   \n",
       "3            Sound Isidro  https://fanmusicfest.com//content/sound-isidro...   \n",
       "4     Iboga Rave Valencia  https://fanmusicfest.com//content/iboga-rave-v...   \n",
       "..                    ...                                                ...   \n",
       "103       Live Las Ventas  https://fanmusicfest.com//content/live-las-ven...   \n",
       "104     Iboga Rave Madrid  https://fanmusicfest.com//content/iboga-rave-m...   \n",
       "105       Senior Festival  https://fanmusicfest.com//content/senior-festi...   \n",
       "106       Alabordaje Fest  https://fanmusicfest.com//content/alabordaje-f...   \n",
       "107  Primavera Trompetera  https://fanmusicfest.com//content/primavera-tr...   \n",
       "\n",
       "                  estilo  \n",
       "0    fusion, world music  \n",
       "1    fusion, world music  \n",
       "2    fusion, world music  \n",
       "3    fusion, world music  \n",
       "4    fusion, world music  \n",
       "..                   ...  \n",
       "103  fusion, world music  \n",
       "104  fusion, world music  \n",
       "105  fusion, world music  \n",
       "106  fusion, world music  \n",
       "107  fusion, world music  \n",
       "\n",
       "[108 rows x 3 columns]"
      ]
     },
     "execution_count": 39,
     "metadata": {},
     "output_type": "execute_result"
    }
   ],
   "source": [
    "# create_df_save_csv(capture_info(generate_urls(20583, 4)), 20583)\n",
    "# create_df_save_csv(capture_info(generate_urls(34136, 7)), 34136)\n",
    "# create_df_save_csv(capture_info(generate_urls(20584, 14)), 20584)\n",
    "# create_df_save_csv(capture_info(generate_urls(20586, 12)), 20586)\n",
    "create_df_save_csv(capture_info(generate_urls(20585, 9)), 20585)"
   ]
  }
 ],
 "metadata": {
  "kernelspec": {
   "display_name": "scrap",
   "language": "python",
   "name": "python3"
  },
  "language_info": {
   "codemirror_mode": {
    "name": "ipython",
    "version": 3
   },
   "file_extension": ".py",
   "mimetype": "text/x-python",
   "name": "python",
   "nbconvert_exporter": "python",
   "pygments_lexer": "ipython3",
   "version": "3.9.16"
  },
  "orig_nbformat": 4
 },
 "nbformat": 4,
 "nbformat_minor": 2
}
