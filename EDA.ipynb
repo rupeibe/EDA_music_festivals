{
 "cells": [
  {
   "cell_type": "code",
   "execution_count": 1,
   "metadata": {},
   "outputs": [],
   "source": [
    "import os"
   ]
  },
  {
   "attachments": {},
   "cell_type": "markdown",
   "metadata": {},
   "source": [
    "## La estructura de trabajo del análisis exploratorio de datos ha sido la siguiente:\n",
    "\n",
    "\n",
    "### Extracción de los datos:\n",
    "\n",
    "[obtencion_urls_festivales_fanmusicfest.ipynb](./codigo/notebooks/obtencion_urls_festivales_fanmusicfest.ipynb) : Extraigo las URLs de todos los festivales de música para después recopilar los datos de cada uno de ellos\n",
    "\n",
    "- Función de conexión a la web y almacenamiento de las URLs\n",
    "\n",
    "[obtencion_info_festivales_fanmusicfest.ipynb](./codigo/notebooks/obtencion_info_festivales_fanmusicfest.ipynb) : Extraigo toda la información de cada uno de los festivales y la almaceno en un dataframe que exporto a csv para proseguir con el análisis\n",
    "\n",
    "- Función de conexión a la web y almacenamiento de laos datos de los festivales.\n",
    "        \n",
    "        \n",
    "### Tratamiento/ análisis y representación de los datos:\n",
    "\n",
    "[analisis_datos__demograficos.ipynb](./codigo/notebooks/analisis_datos__demograficos.ipynb) : Limpieza, tratamiento y análisis de los datos musicales y demográficos del EDA\n",
    "\n",
    "- Tratamiento (discretización) y limpieza (nulos, duplicados) de los datos musicales\n",
    "- Tratamiento (corrección de errores de formato) y limpieza (nulos, duplicados) de los datos demográficos\n",
    "- Unión de datos musicales y demográficos.\n",
    "- Análisis de los datos (creación de subsets) y representaciones gráficas (plotly)\n",
    "\n",
    "[analisis_datos_economicos.ipynb](./codigo/notebooks/analisis_datos_economicos.ipynb) : Limpieza, tratamiento y análisis de los datos económicos del EDA\n",
    "\n",
    "- Captura  de los datos a partir de imágenes\n",
    "- Tratamniento y limpieza de los datos (corrección de errores de interpretación OCR)\n",
    "- Creación de dataframes para las representaciones\n",
    "- Representación gráfica de los datos (plotly, wordcloud)\n",
    "\n",
    "[mapaFolium_festivales.ipynb](./codigo/notebooks/mapaFolium_festivales.ipynb) : Extracción de datos de la web, creación de dataframe y creación de mapa\n",
    "\n",
    "- Función de conexión a la web y almacenamiento de los registros\n",
    "- Creación de dataframe para visualización\n",
    "- Creación de mapa Folium con los datos"
   ]
  }
 ],
 "metadata": {
  "kernelspec": {
   "display_name": "core",
   "language": "python",
   "name": "python3"
  },
  "language_info": {
   "codemirror_mode": {
    "name": "ipython",
    "version": 3
   },
   "file_extension": ".py",
   "mimetype": "text/x-python",
   "name": "python",
   "nbconvert_exporter": "python",
   "pygments_lexer": "ipython3",
   "version": "3.9.16"
  },
  "orig_nbformat": 4
 },
 "nbformat": 4,
 "nbformat_minor": 2
}
